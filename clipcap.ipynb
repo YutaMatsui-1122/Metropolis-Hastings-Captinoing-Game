{
 "cells": [
  {
   "cell_type": "code",
   "execution_count": 2,
   "metadata": {},
   "outputs": [
    {
     "name": "stdout",
     "output_type": "stream",
     "text": [
      "Authentication Failed: Invalid client secrets file ('Error opening file', 'client_secrets.json', 'No such file or directory', 2)\n"
     ]
    },
    {
     "name": "stderr",
     "output_type": "stream",
     "text": [
      "/usr/local/lib/python3.10/dist-packages/oauth2client/_helpers.py:255: UserWarning: Cannot access mycreds.txt: No such file or directory\n",
      "  warnings.warn(_MISSING_FILE_MESSAGE.format(filename))\n"
     ]
    }
   ],
   "source": [
    "from pydrive2.auth import GoogleAuth\n",
    "from pydrive2.drive import GoogleDrive\n",
    "import subprocess\n",
    "\n",
    "download_with_pydrive = True\n",
    "\n",
    "class Downloader(object):\n",
    "    def __init__(self, use_pydrive):\n",
    "        self.use_pydrive = use_pydrive\n",
    "        if self.use_pydrive:\n",
    "            try:\n",
    "                self.authenticate()\n",
    "            except Exception as e:\n",
    "                print(f\"Authentication Failed: {e}\")\n",
    "\n",
    "    def authenticate(self):\n",
    "        gauth = GoogleAuth()\n",
    "        # Try to load saved client credentials\n",
    "        gauth.LoadCredentialsFile(\"mycreds.txt\")\n",
    "        if gauth.credentials is None:\n",
    "            # Authenticate if they're not there\n",
    "            gauth.LocalWebserverAuth()\n",
    "        elif gauth.access_token_expired:\n",
    "            # Refresh them if expired\n",
    "            gauth.Refresh()\n",
    "        else:\n",
    "            # Initialize the saved creds\n",
    "            gauth.Authorize()\n",
    "        # Save the current credentials to a file\n",
    "        gauth.SaveCredentialsFile(\"mycreds.txt\")\n",
    "        \n",
    "        self.drive = GoogleDrive(gauth)\n",
    "\n",
    "    def download_file(self, file_id, file_dst):\n",
    "        if self.use_pydrive:\n",
    "            downloaded = self.drive.CreateFile({'id': file_id})\n",
    "            downloaded.FetchMetadata(fetch_all=True)\n",
    "            downloaded.GetContentFile(file_dst)\n",
    "        else:\n",
    "            cmd = f\"gdown --id {file_id} -O {file_dst}\"\n",
    "            subprocess.run(cmd, shell=True, check=True)\n",
    "\n",
    "downloader = Downloader(download_with_pydrive)\n"
   ]
  }
 ],
 "metadata": {
  "kernelspec": {
   "display_name": "Python 3",
   "language": "python",
   "name": "python3"
  },
  "language_info": {
   "codemirror_mode": {
    "name": "ipython",
    "version": 3
   },
   "file_extension": ".py",
   "mimetype": "text/x-python",
   "name": "python",
   "nbconvert_exporter": "python",
   "pygments_lexer": "ipython3",
   "version": "3.10.12"
  }
 },
 "nbformat": 4,
 "nbformat_minor": 2
}
